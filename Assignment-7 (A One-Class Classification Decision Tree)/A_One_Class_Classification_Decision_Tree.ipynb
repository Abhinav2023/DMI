{
  "nbformat": 4,
  "nbformat_minor": 0,
  "metadata": {
    "colab": {
      "name": "A_One_Class_Classification_Decision_Tree.ipynb",
      "provenance": [],
      "collapsed_sections": [],
      "toc_visible": true
    },
    "kernelspec": {
      "name": "python3",
      "display_name": "Python 3"
    },
    "language_info": {
      "name": "python"
    }
  },
  "cells": [
    {
      "cell_type": "markdown",
      "metadata": {
        "id": "NY2kjrxQHKS_"
      },
      "source": [
        "# A One-Class Classification Decision Tree\n",
        "*Group Members* \\\n",
        "\n",
        "Abhinav Bansal : IIT2018155 \\\n",
        "Neelabh Gupta : IIT2018168 \\\n",
        "Ankit Raj : IIT2018174 \\\n",
        "Ashish Patel : IIT2018175 \\\n",
        "Shubham Soni : IIT2018177 \\\n",
        "\n"
      ]
    },
    {
      "cell_type": "code",
      "metadata": {
        "id": "oviR7SfdHRzy"
      },
      "source": [
        "from sklearn.neighbors import KernelDensity\n",
        "import pandas as pd"
      ],
      "execution_count": null,
      "outputs": []
    },
    {
      "cell_type": "code",
      "metadata": {
        "id": "G7TPZcLFrsm1"
      },
      "source": [
        "data = pd.read_csv(\"letter-recognition.data\")"
      ],
      "execution_count": null,
      "outputs": []
    },
    {
      "cell_type": "code",
      "metadata": {
        "id": "CqyixrsIyeWI"
      },
      "source": [
        "train_data = data.sample(frac=0.7)\n",
        "test_data = data.drop(train_data.index)"
      ],
      "execution_count": null,
      "outputs": []
    },
    {
      "cell_type": "code",
      "metadata": {
        "id": "r68SxnQdyowk"
      },
      "source": [
        "def label_data(label):\n",
        "  labels = np.array(train_data['Label'].unique())\n",
        "  df = []\n",
        "  for l in labels:\n",
        "    if(l==label):\n",
        "      df.append(train_data[train_data['Label']==l])\n",
        "    else:\n",
        "      df.append(train_data[train_data['Label']==l].sample(frac=0.04))\n",
        "  return pd.concat(df)"
      ],
      "execution_count": null,
      "outputs": []
    },
    {
      "cell_type": "code",
      "metadata": {
        "id": "FizUqVuSy1Vk"
      },
      "source": [
        "import numpy as np\n",
        "from sklearn.ensemble import IsolationForest\n",
        "OCtree_for_label = {}\n",
        "int_to_letter = {}\n",
        "for i,l in enumerate(np.array(train_data['Label'].unique())):\n",
        "  int_to_letter[i]=l\n",
        "  data_label = label_data(l)\n",
        "  clf = IsolationForest().fit(data_label.drop('Label',axis=1))\n",
        "  OCtree_for_label[l]=clf"
      ],
      "execution_count": null,
      "outputs": []
    },
    {
      "cell_type": "code",
      "metadata": {
        "id": "baIPxd8Fy9XI"
      },
      "source": [
        "predictions = []\n",
        "for let in OCtree_for_label:\n",
        "  predictions.append(OCtree_for_label[let].decision_function(test_data.drop('Label',axis=1)))"
      ],
      "execution_count": null,
      "outputs": []
    },
    {
      "cell_type": "code",
      "metadata": {
        "colab": {
          "base_uri": "https://localhost:8080/"
        },
        "id": "mTudRtRJ4W69",
        "outputId": "dddcf5f2-038e-437b-8d2a-90e805c17c69"
      },
      "source": [
        "np.array(predictions)"
      ],
      "execution_count": null,
      "outputs": [
        {
          "output_type": "execute_result",
          "data": {
            "text/plain": [
              "array([[ 0.07703739,  0.0328082 ,  0.0167202 , ...,  0.05132448,\n",
              "         0.02557168,  0.04180555],\n",
              "       [ 0.1006148 ,  0.01234721,  0.01596316, ...,  0.03918134,\n",
              "        -0.00051848, -0.0192817 ],\n",
              "       [ 0.07609346,  0.01315963,  0.01357418, ...,  0.04828579,\n",
              "         0.00796125,  0.0312581 ],\n",
              "       ...,\n",
              "       [ 0.10105153,  0.05119149,  0.02755738, ...,  0.05740854,\n",
              "        -0.0092431 , -0.01094434],\n",
              "       [ 0.07009369,  0.0438546 ,  0.0176032 , ...,  0.04763318,\n",
              "         0.00541315,  0.01272313],\n",
              "       [ 0.12498011,  0.03303513,  0.03778269, ...,  0.07997799,\n",
              "         0.03519704,  0.02316035]])"
            ]
          },
          "metadata": {
            "tags": []
          },
          "execution_count": 7
        }
      ]
    },
    {
      "cell_type": "code",
      "metadata": {
        "id": "hw4ARjpay-CV"
      },
      "source": [
        "predictions = np.array(predictions).T"
      ],
      "execution_count": null,
      "outputs": []
    },
    {
      "cell_type": "code",
      "metadata": {
        "colab": {
          "base_uri": "https://localhost:8080/"
        },
        "id": "WdHTTTfi4K5A",
        "outputId": "33c28751-20bf-46c5-a1c4-7a84f5cee0c6"
      },
      "source": [
        "predictions.shape"
      ],
      "execution_count": null,
      "outputs": [
        {
          "output_type": "execute_result",
          "data": {
            "text/plain": [
              "(6000, 26)"
            ]
          },
          "metadata": {
            "tags": []
          },
          "execution_count": 9
        }
      ]
    },
    {
      "cell_type": "code",
      "metadata": {
        "id": "Lk3P9uufzG9o"
      },
      "source": [
        "res = []\n",
        "for i,pred in enumerate(predictions):\n",
        "  res.append(int_to_letter[pred.argmax()])"
      ],
      "execution_count": null,
      "outputs": []
    },
    {
      "cell_type": "code",
      "metadata": {
        "colab": {
          "base_uri": "https://localhost:8080/"
        },
        "id": "Jy2C0BCdzJWL",
        "outputId": "28409bf6-eddf-4f4f-de88-01e3937dc176"
      },
      "source": [
        "from sklearn.metrics import classification_report\n",
        "print(classification_report(test_data['Label'], res))"
      ],
      "execution_count": null,
      "outputs": [
        {
          "output_type": "stream",
          "text": [
            "              precision    recall  f1-score   support\n",
            "\n",
            "           A       0.82      0.82      0.82       234\n",
            "           B       0.62      0.56      0.59       258\n",
            "           C       0.63      0.67      0.65       223\n",
            "           D       0.63      0.70      0.66       240\n",
            "           E       0.77      0.28      0.41       238\n",
            "           F       0.74      0.54      0.62       209\n",
            "           G       0.64      0.46      0.54       223\n",
            "           H       0.35      0.70      0.47       205\n",
            "           I       0.99      0.75      0.86       228\n",
            "           J       0.95      0.72      0.82       220\n",
            "           K       0.50      0.60      0.55       214\n",
            "           L       0.97      0.76      0.85       246\n",
            "           M       0.48      0.91      0.63       226\n",
            "           N       0.88      0.56      0.69       239\n",
            "           O       0.79      0.42      0.54       219\n",
            "           P       0.63      0.79      0.70       258\n",
            "           Q       0.40      0.71      0.52       240\n",
            "           R       0.70      0.46      0.55       216\n",
            "           S       0.31      0.35      0.33       226\n",
            "           T       0.72      0.71      0.72       235\n",
            "           U       0.86      0.73      0.79       221\n",
            "           V       0.74      0.77      0.75       228\n",
            "           W       0.54      0.84      0.66       226\n",
            "           X       0.79      0.08      0.14       244\n",
            "           Y       0.93      0.46      0.61       251\n",
            "           Z       0.40      0.76      0.53       233\n",
            "\n",
            "    accuracy                           0.62      6000\n",
            "   macro avg       0.68      0.62      0.61      6000\n",
            "weighted avg       0.69      0.62      0.62      6000\n",
            "\n"
          ],
          "name": "stdout"
        }
      ]
    }
  ]
}
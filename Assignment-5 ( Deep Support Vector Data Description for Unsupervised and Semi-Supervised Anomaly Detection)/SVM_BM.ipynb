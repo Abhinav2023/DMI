{
  "nbformat": 4,
  "nbformat_minor": 0,
  "metadata": {
    "colab": {
      "name": "SVM-BM.ipynb",
      "provenance": [],
      "collapsed_sections": []
    },
    "kernelspec": {
      "name": "python3",
      "display_name": "Python 3"
    },
    "language_info": {
      "name": "python"
    }
  },
  "cells": [
    {
      "cell_type": "markdown",
      "metadata": {
        "id": "A-Vz54oJXPPp"
      },
      "source": [
        "importing libraries\n"
      ]
    },
    {
      "cell_type": "code",
      "metadata": {
        "id": "z8Q4ty3RyoLJ"
      },
      "source": [
        "import pandas as pd\n",
        "import numpy as np\n",
        "import random\n",
        "import matplotlib.pyplot as plt\n",
        "from sklearn import svm,metrics\n",
        "from sklearn.metrics import accuracy_score\n",
        "import random\n",
        "import math "
      ],
      "execution_count": 1,
      "outputs": []
    },
    {
      "cell_type": "markdown",
      "metadata": {
        "id": "J5JEjN3XXCj3"
      },
      "source": [
        "Reading and preprossesing our dataset"
      ]
    },
    {
      "cell_type": "code",
      "metadata": {
        "colab": {
          "base_uri": "https://localhost:8080/"
        },
        "id": "L95x3c6YW4_1",
        "outputId": "09d4470b-1c53-4d45-f5b8-a929207f8c73"
      },
      "source": [
        "df = pd.read_csv(\"/content/sample_data/letter-recognition.csv\")\n",
        "df=df.replace('A','1')\n",
        "df=df.replace(['B','C','D','E','F','G','E','F','G','H','I','J','K','L','M','N','O','P','Q','R','S','T','U','V','W','X','Y','Z'],'-1')\n",
        "\n",
        "msk = np.random.rand(len(df)) < 0.8\n",
        "print(msk.size)\n",
        "train = df[msk]\n",
        "test = df[~msk]\n",
        "m = train;\n",
        "\n",
        "N=9000\n",
        "m1=m.sample(N)\n",
        "\n",
        "X = m1.drop(['target'],axis=1).values   # independent features\n",
        "y = m1['target']\n",
        "y1 = y\n",
        "print(X.shape,y1.shape)"
      ],
      "execution_count": 2,
      "outputs": [
        {
          "output_type": "stream",
          "text": [
            "20000\n",
            "(9000, 16) (9000,)\n"
          ],
          "name": "stdout"
        }
      ]
    },
    {
      "cell_type": "markdown",
      "metadata": {
        "id": "FgMZAEOCZzPm"
      },
      "source": [
        "training initial model g0"
      ]
    },
    {
      "cell_type": "code",
      "metadata": {
        "id": "zkkQA-66378x"
      },
      "source": [
        "svc = svm.SVC(kernel='linear', C=1).fit(X, y1)\n",
        "g0=svc"
      ],
      "execution_count": 3,
      "outputs": []
    },
    {
      "cell_type": "markdown",
      "metadata": {
        "id": "Q7j3lG9LZ0jp"
      },
      "source": [
        "defining loss function"
      ]
    },
    {
      "cell_type": "code",
      "metadata": {
        "id": "DOfeUgil4INa"
      },
      "source": [
        "def l(smodel,zgiven):\n",
        "\tans=1-int(float(smodel.predict(zgiven.drop(['target'],axis=1).values[0].reshape(1,-1))[0]))*int(zgiven['target'].values)\n",
        "\treturn ans"
      ],
      "execution_count": 4,
      "outputs": []
    },
    {
      "cell_type": "markdown",
      "metadata": {
        "id": "yoFaFlbCyQIO"
      },
      "source": [
        "Execution of the SVM-BM algorithm as given in \"SVM-Boosting based on Markov resampling: Theory and algorithm\""
      ]
    },
    {
      "cell_type": "code",
      "metadata": {
        "colab": {
          "base_uri": "https://localhost:8080/"
        },
        "id": "nsHaBdc8eL-9",
        "outputId": "4c51664a-19da-407e-ed7c-dbafd2a01ea6"
      },
      "source": [
        "# inputs Dtrain,n2,q,N,T\n",
        "T=20\n",
        "n2=30\n",
        "q=1.2\n",
        "# algorithm\n",
        "t=1\n",
        "z1=m.sample()\n",
        "g=g0\n",
        "zi=z1\n",
        "et=[]\n",
        "while(t<=T):\n",
        "  cnt=0\n",
        "  print(t)\n",
        "  i=1\n",
        "  n1=0\n",
        "  given_Dt_list=[]\n",
        "  \n",
        "  while(i<=N):\n",
        "    cnt+=1\n",
        "    z_star=m.sample()\n",
        "    p1 = math.exp(-l(g,z_star))\n",
        "    p2 = math.exp(-l(g,zi))\n",
        "    pt_iplus1=min(1,p1/p2)\n",
        "    flag=0\n",
        "\n",
        "    if (n1>n2):\n",
        "      flag=1\n",
        "      pt_iplus1=min(1,q*pt_iplus1)\n",
        "      zi=z_star\n",
        "      given_Dt_list.append(zi.index[0])\n",
        "      i+=1\n",
        "      n1=0\n",
        "\n",
        "    yi =int(zi['target'].values)\n",
        "    y_star =int(z_star['target'].values)\n",
        "    if (pt_iplus1==1 and yi*y_star==1):\n",
        "      x = z_star.drop(['target'],axis=1).values[0].reshape(1,-1)\n",
        "      xi = zi.drop(['target'],axis=1).values[0].reshape(1,-1)\n",
        "      pt_iplus1 =  math.exp(-y_star)*int(g.predict(x)[0])/(-yi*int(g.predict(xi)[0]))\n",
        "\n",
        "    if (random.uniform(0,1)<pt_iplus1):\n",
        "      flag=1\n",
        "      zi=z_star\n",
        "      given_Dt_list.append(zi.index[0])\n",
        "      i+=1\n",
        "      n1=0\n",
        "    if (flag==0): \n",
        "      n1+=1\n",
        "\n",
        "  Dt = df.iloc[given_Dt_list]\n",
        "  Dt_X = Dt.drop(['target'],axis=1).values   # independant features\n",
        "  Dt_Y = Dt['target']\n",
        "  g = svm.SVC(kernel='linear', C=1).fit(Dt_X, Dt_Y)\n",
        "  predict=g.predict(Dt_X)\n",
        "  # get the accuracy\n",
        "  e_cnt=1-accuracy_score(Dt_Y, predict)\n",
        "  et.append(e_cnt)\n",
        "  alpha_t=1/2*math.log((1-e_cnt)/(e_cnt))\n",
        "  zi=z_star\n",
        "  t+=1\n",
        "  if(alpha_t<0):\n",
        "    t-=1\n",
        "  \n"
      ],
      "execution_count": 5,
      "outputs": [
        {
          "output_type": "stream",
          "text": [
            "1\n",
            "2\n",
            "3\n",
            "4\n",
            "5\n",
            "6\n",
            "7\n",
            "8\n",
            "9\n",
            "10\n",
            "11\n",
            "12\n",
            "13\n",
            "14\n",
            "15\n",
            "16\n",
            "17\n",
            "18\n",
            "19\n",
            "20\n"
          ],
          "name": "stdout"
        }
      ]
    },
    {
      "cell_type": "markdown",
      "metadata": {
        "id": "g78NXQVRkPH_"
      },
      "source": [
        "plotting the misclassification rates after each epoch"
      ]
    },
    {
      "cell_type": "code",
      "metadata": {
        "colab": {
          "base_uri": "https://localhost:8080/",
          "height": 295
        },
        "id": "p4IxQVhkjv1v",
        "outputId": "3d500da7-c4ba-4dcc-cb06-6e8b94f5aff3"
      },
      "source": [
        "plt.title(\"Misclassification graph for SVM-BM\")  \n",
        "plt.xlabel(\"epochs\")  \n",
        "plt.ylabel(\"et\")  \n",
        "plt.plot(np.arange(1,len(et)+1), et, color =\"Blue\")  \n",
        "plt.show()"
      ],
      "execution_count": 6,
      "outputs": [
        {
          "output_type": "display_data",
          "data": {
            "image/png": "[encoded data removed]",
            "text/plain": [
              "<Figure size 432x288 with 1 Axes>"
            ]
          },
          "metadata": {
            "tags": [],
            "needs_background": "light"
          }
        }
      ]
    }
  ]
}
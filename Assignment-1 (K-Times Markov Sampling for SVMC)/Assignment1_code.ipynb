{
  "nbformat": 4,
  "nbformat_minor": 0,
  "metadata": {
    "colab": {
      "name": "Assignment1_code.ipynb",
      "provenance": [],
      "collapsed_sections": []
    },
    "kernelspec": {
      "name": "python3",
      "display_name": "Python 3"
    }
  },
  "cells": [
    {
      "cell_type": "code",
      "metadata": {
        "id": "5CnjPVxbc_YW",
        "colab": {
          "base_uri": "https://localhost:8080/"
        },
        "outputId": "6b3561b3-8ad2-49f7-f927-ec16b93f3886"
      },
      "source": [
        "import pandas as pd\n",
        "import numpy as np\n",
        "from sklearn.svm import SVC\n",
        "\n",
        "from sklearn.model_selection import train_test_split\n",
        "from sklearn import metrics\n",
        "from sklearn.preprocessing import scale\n",
        "\n",
        "\n",
        "letters = pd.read_csv('/content/letter-recognition.csv')\n",
        "X = letters.drop(\"diagnosis\", axis = 1)\n",
        "y = letters['diagnosis']\n",
        "X_scaled = scale(X)\n",
        "\n",
        "X_train, X_test, Y_train, Y_test = train_test_split(X_scaled, y, test_size = 0.2, random_state = 40)\n",
        "ml = SVC(kernel='linear')\n",
        "accuracy=0\n",
        "k=2\n",
        "for i in range(k):\n",
        "    ml.fit(X_train, Y_train)    \n",
        "    Y_pred = ml.predict(X_test)\n",
        "    accuracy=max(metrics.accuracy_score(Y_test, Y_pred),accuracy)\n",
        "\n",
        "print(\"Accuracy with linear kernel:\", accuracy)\n",
        "nlm = SVC(kernel='rbf')\n",
        "accuracy=0\n",
        "for i in range(k):\n",
        "    nlm.fit(X_train, Y_train)    \n",
        "    Y_pred = nlm.predict(X_test)\n",
        "    accuracy=max(metrics.accuracy_score(Y_test, Y_pred),accuracy)\n",
        "\n",
        "print(\"Accuracy with RBF kernel\",accuracy)\n",
        "nlm = SVC(kernel='poly',degree=2)\n",
        "accuracy=0\n",
        "for i in range(k):\n",
        "    nlm.fit(X_train, Y_train)    \n",
        "    Y_pred = nlm.predict(X_test)\n",
        "    accuracy=max(metrics.accuracy_score(Y_test, Y_pred),accuracy)\n",
        "print(\"Accuracy with polnomial of degree 2 kernel:\", accuracy)"
      ],
      "execution_count": 15,
      "outputs": [
        {
          "output_type": "stream",
          "text": [
            "Accuracy with linear kernel: 0.855\n",
            "Accuracy with RBF kernel 0.94375\n",
            "Accuracy with polnomial of degree 2 kernel: 0.897\n"
          ],
          "name": "stdout"
        }
      ]
    }
  ]
}
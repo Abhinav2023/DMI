{
  "nbformat": 4,
  "nbformat_minor": 0,
  "metadata": {
    "colab": {
      "name": "Code_Paper1.ipynb",
      "provenance": [],
      "collapsed_sections": []
    },
    "kernelspec": {
      "display_name": "Python 3",
      "name": "python3"
    }
  },
  "cells": [
    {
      "cell_type": "code",
      "metadata": {
        "id": "95baY23syvYB",
        "colab": {
          "base_uri": "https://localhost:8080/"
        },
        "outputId": "6d5612a0-aff1-4059-af19-1343d5d17297"
      },
      "source": [
        "import numpy as np\n",
        "import pandas as pd\n",
        "import statsmodels.api as sm\n",
        "from sklearn.preprocessing import MinMaxScaler\n",
        "from sklearn.model_selection import train_test_split as tts\n",
        "from sklearn.metrics import accuracy_score, recall_score, precision_score\n",
        "from sklearn.utils import shuffle\n",
        "\n",
        "datafile=pd.read_csv('/content/letter-recognition.csv')\n",
        "diagram_map = {'A': 1.0, 'B': -1.0,'C': 1.0, 'D': -1.0,'E': 1.0, 'F': -1.0,'G': 1.0, 'H': -1.0,'I': 1.0, 'J': -1.0,'K': 1.0, 'L': -1.0,'M': 1.0, 'N': -1.0\n",
        "            ,'O': 1.0, 'P': -1.0,'Q': 1.0, 'R': -1.0,'S': 1.0, 'T': -1.0,'U': 1.0, 'V': -1.0,'W': 1.0, 'X': -1.0,\n",
        "            'Y': 1.0, 'Z': -1.0}\n",
        "datafile['diagnosis'] = datafile['diagnosis'].map(diagram_map)\n",
        "datafile\n",
        "\n",
        "X=datafile.drop('diagnosis',axis=1)\n",
        "y=datafile['diagnosis']\n",
        "m=8000\n",
        "X=X[:m]\n",
        "y=y[:m]\n",
        "print(X.shape)\n",
        "\n",
        "datafile1=datafile\n",
        "datafile1=datafile1.sample(frac=1)\n",
        "X1=datafile1.drop('diagnosis',axis=1)[:m]\n",
        "y1=datafile1['diagnosis'][:m]\n",
        "\n",
        "num=int(0.8*m)\n",
        "X_train=X1[:num]\n",
        "y_train=y1[:num]\n",
        "X_test=X1[num:]\n",
        "y_test=y1[num:]\n",
        "print(X_train.shape,X_test.shape)\n"
      ],
      "execution_count": 48,
      "outputs": [
        {
          "output_type": "stream",
          "text": [
            "(8000, 16)\n",
            "(6400, 16) (1600, 16)\n"
          ],
          "name": "stdout"
        }
      ]
    },
    {
      "cell_type": "markdown",
      "metadata": {
        "id": "__OAphcZH3kv"
      },
      "source": [
        "**RESULTS SVM WITHOUT MARKOV SAMPLING**"
      ]
    },
    {
      "cell_type": "code",
      "metadata": {
        "colab": {
          "base_uri": "https://localhost:8080/"
        },
        "id": "2g8Xjvb8HUdD",
        "outputId": "a9f6e20d-6cf4-4040-922f-78b61f9b8035"
      },
      "source": [
        "from sklearn import svm\n",
        "clf = svm.SVC(kernel='linear')\n",
        "clf.fit(X_train, y_train)\n",
        "y_pred=clf.predict(X_test)\n",
        "\n",
        "print(\"accuracy on test dataset: {}\".format(accuracy_score(y_test, y_pred)))\n",
        "print(\"recall on test dataset: {}\".format(recall_score(y_test, y_pred)))\n",
        "print(\"precision on test dataset: {}\".format(recall_score(y_test, y_pred)))\n",
        "\n",
        "Num1=1000\n",
        "X_val=X[:Num1]\n",
        "y_val=y[:Num1]\n",
        "print(y_val.shape)\n",
        "\n",
        "from sklearn import svm\n",
        "clf = svm.SVC(kernel='linear')\n",
        "clf.fit(X_val, y_val)\n",
        "\n",
        "y_pre=clf.predict(X_test)\n",
        "print(y_pre)\n"
      ],
      "execution_count": 49,
      "outputs": [
        {
          "output_type": "stream",
          "text": [
            "accuracy on test dataset: 0.734375\n",
            "recall on test dataset: 0.7630573248407644\n",
            "precision on test dataset: 0.7630573248407644\n",
            "(1000,)\n",
            "[-1. -1. -1. ...  1.  1. -1.]\n"
          ],
          "name": "stdout"
        }
      ]
    },
    {
      "cell_type": "code",
      "metadata": {
        "id": "npAcBLvo-iXj",
        "colab": {
          "base_uri": "https://localhost:8080/"
        },
        "outputId": "09f925b3-77fd-4834-a326-f72111d87d4c"
      },
      "source": [
        "import math\n",
        "\n",
        "def Cost(Y_pred, Y):\n",
        "    # calculate hinge loss\n",
        "    if Y_pred*Y>1.0:\n",
        "        return 0\n",
        "    return 1.0-Y_pred*Y\n",
        "\n",
        "X=X.to_numpy()\n",
        "y=y.to_numpy()\n",
        "Ni=0\n",
        "j=0\n",
        "k=2\n",
        "q=1/1.2\n",
        "m=y.shape[0]\n",
        "\n",
        "mp=0\n",
        "mn=0\n",
        "ct=0\n",
        "X_tr=[]\n",
        "y_tr=[]\n",
        "X_te=[]\n",
        "y_te=[]\n",
        "X_t=X[0].reshape(1,-1)\n",
        "print(X_t)\n",
        "y_t=y[0].reshape(1,-1)[0]\n",
        "X_tr.append(X_t[0])\n",
        "y_tr.append(y_t[0])\n",
        "\n",
        "if m%2==0 and y_t[0]==1.0:\n",
        "    mp+=1\n",
        "elif m%2==0 and y_t[0]==-1.0:\n",
        "    mn+=1\n",
        "pred_t=clf.predict(X_t)\n",
        "\n",
        "p=1999999.0\n",
        "for i in range(1,m):\n",
        "    X_z=X[i].reshape(1,-1)\n",
        "    y_z=y[i].reshape(1,-1)[0]\n",
        "    pred_z=clf.predict(X_z)\n",
        "    P=math.exp(-Cost(pred_z[0],y_z[0]))/math.exp(-Cost(pred_t[0],y_t[0]))\n",
        "    if ct>=k:\n",
        "        Pdd=q*P\n",
        "        if Pdd>0.5:\n",
        "            X_tr.append(X_z[0])\n",
        "            y_tr.append(y_z[0])\n",
        "            ct+=1 \n",
        "            X_t=X_z\n",
        "            y_t=y_z\n",
        "            pred_t=pred_z\n",
        "            Ni+=1\n",
        "        else:\n",
        "            X_te.append(X_z[0])\n",
        "            y_te.append(y_z[0])\n",
        "            ct=0\n",
        "    elif P==1.0 and y_z==y_t:\n",
        "        Pd=math.exp(-y_z[0]*pred_z[0])/math.exp(-y_t[0]*pred_t[0])\n",
        "        if Pd>0.5:\n",
        "            X_tr.append(X_z[0])\n",
        "            y_tr.append(y_z[0])\n",
        "            ct+=1\n",
        "            X_t=X_z\n",
        "            y_t=y_z\n",
        "            pred_t=pred_z\n",
        "            Ni+=1\n",
        "        else:\n",
        "            X_te.append(X_z[0])\n",
        "            y_te.append(y_z[0])\n",
        "            ct=0\n",
        "    elif P==1.0 and y_z[0]*y_t[0]==-1.0 or P<1.0:\n",
        "        Pd=math.exp(-y_z[0]*pred_z[0])/math.exp(-y_t[0]*pred_t[0])\n",
        "        if Pd>0.5:\n",
        "            X_tr.append(X_z[0])\n",
        "            y_tr.append(y_z[0])\n",
        "            ct+=1\n",
        "            X_t=X_z\n",
        "            y_t=y_z\n",
        "            pred_t=pred_z\n",
        "            Ni+=1\n",
        "        else:\n",
        "            X_te.append(X_z[0])\n",
        "            y_te.append(y_z[0])\n",
        "            ct=0\n",
        "    elif P>1.0:\n",
        "        X_tr.append(X_z[0])\n",
        "        y_tr.append(y_z[0])\n",
        "        ct+=1\n",
        "        X_t=X_z\n",
        "        y_t=y_z\n",
        "        pred_t=pred_z\n",
        "        Ni+=1\n",
        "    if Ni>=N1:\n",
        "        clf.fit(np.array(X_tr),np.array(y_tr))\n",
        "        j+=1\n",
        "    if j>=k:\n",
        "        break"
      ],
      "execution_count": 50,
      "outputs": [
        {
          "output_type": "stream",
          "text": [
            "[[ 2  8  3  5  1  8 13  0  6  6 10  8  0  8  0  8]]\n"
          ],
          "name": "stdout"
        }
      ]
    },
    {
      "cell_type": "code",
      "metadata": {
        "id": "uX36HeQDnfy7",
        "colab": {
          "base_uri": "https://localhost:8080/"
        },
        "outputId": "359c6a52-4190-45b3-844a-d18c5f9007f3"
      },
      "source": [
        "X_tr=np.array(X_tr)\n",
        "y_tr=np.array(y_tr)\n",
        "X_te=np.array(X_te)\n",
        "y_te=np.array(y_te)\n",
        "clf = svm.SVC(kernel='linear')\n",
        "clf.fit(X_tr, y_tr)\n",
        "\n",
        "y_pred=clf.predict(X_test)\n",
        "\n",
        "print(\"Accuracy on test dataset: {}\".format(accuracy_score(y_test, y_pred)))\n",
        "print(\"Recall on test dataset: {}\".format(recall_score(y_test, y_pred)))\n",
        "print(\"Precision on test dataset: {}\".format(recall_score(y_test, y_pred)))"
      ],
      "execution_count": 51,
      "outputs": [
        {
          "output_type": "stream",
          "text": [
            "Accuracy on test dataset: 0.73125\n",
            "Recall on test dataset: 0.7006369426751592\n",
            "Precision on test dataset: 0.7006369426751592\n"
          ],
          "name": "stdout"
        }
      ]
    }
  ]
}
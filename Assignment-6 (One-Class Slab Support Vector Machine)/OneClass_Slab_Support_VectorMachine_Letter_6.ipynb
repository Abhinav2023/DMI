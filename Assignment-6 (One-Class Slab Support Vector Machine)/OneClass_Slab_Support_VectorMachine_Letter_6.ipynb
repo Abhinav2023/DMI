{
  "nbformat": 4,
  "nbformat_minor": 0,
  "metadata": {
    "colab": {
      "name": "OneClass_Slab_Support_VectorMachine_Letter-6.ipynb",
      "provenance": [],
      "collapsed_sections": []
    },
    "kernelspec": {
      "name": "python3",
      "display_name": "Python 3"
    },
    "language_info": {
      "name": "python"
    }
  },
  "cells": [
    {
      "cell_type": "markdown",
      "metadata": {
        "id": "QNiOqQAKEfps"
      },
      "source": [
        "# One-Class Slab Support Vector Machine \n",
        "**Group Members** \\\n",
        "\n",
        "Abhinav Bansal : IIT2018155 \\\n",
        "Neelabh Gupta : IIT2018168 \\\n",
        "Ankit Raj : IIT2018174 \\\n",
        "Ashish Patel : IIT2018175 \\\n",
        "Shubham Soni : IIT2018177 \\\n"
      ]
    },
    {
      "cell_type": "code",
      "metadata": {
        "id": "jlBjGaTAoY4b"
      },
      "source": [
        "import pandas as pd\n",
        "from sklearn.svm import OneClassSVM\n",
        "import numpy as np\n",
        "from sklearn.metrics import classification_report"
      ],
      "execution_count": 11,
      "outputs": []
    },
    {
      "cell_type": "code",
      "metadata": {
        "id": "EnUOgprAB9qX"
      },
      "source": [
        "def label_data(label):\n",
        "  labels = np.array(train_data['Label'].unique())\n",
        "  df = []\n",
        "  for l in labels:\n",
        "    if(l==label):\n",
        "      df.append(train_data[train_data['Label']==l])\n",
        "    else:\n",
        "      df.append(train_data[train_data['Label']==l].sample(frac=0.04))\n",
        "  return pd.concat(df)\n",
        "\n",
        "def label_data2(label):\n",
        "  return train_data"
      ],
      "execution_count": 13,
      "outputs": []
    },
    {
      "cell_type": "code",
      "metadata": {
        "id": "UMJqSnduFHzM"
      },
      "source": [
        "data = pd.read_csv(\"letter-recognition.data\")\n",
        "train_data = data.sample(frac=0.7)\n",
        "test_data = data.drop(train_data.index)"
      ],
      "execution_count": 14,
      "outputs": []
    },
    {
      "cell_type": "code",
      "metadata": {
        "id": "LMucxKWlB9qZ"
      },
      "source": [
        "OCSVM_for_label = {}\n",
        "int_to_letter = {}\n",
        "for i,l in enumerate(np.array(train_data['Label'].unique())):\n",
        "  int_to_letter[i]=l\n",
        "  data_label = label_data(l)\n",
        "  data2_label = label_data2(l)\n",
        "  clf = OneClassSVM(gamma='auto').fit(data_label.drop('Label',axis=1))\n",
        "  clf2 = OneClassSVM(gamma='auto').fit(data2_label.drop('Label',axis=1))\n",
        "  OCSVM_for_label[l]=(clf,clf2)"
      ],
      "execution_count": 15,
      "outputs": []
    },
    {
      "cell_type": "code",
      "metadata": {
        "id": "B7RE3wMMB9qe"
      },
      "source": [
        "predictions = []\n",
        "for let in OCSVM_for_label:\n",
        "  predictions.append(-(OCSVM_for_label[let][0].decision_function(test_data.drop('Label',axis=1)))*(OCSVM_for_label[let][1].decision_function(test_data.drop('Label',axis=1))))\n",
        "predictions = np.array(predictions).T"
      ],
      "execution_count": 16,
      "outputs": []
    },
    {
      "cell_type": "code",
      "metadata": {
        "id": "6WMGmbtlB9qh",
        "colab": {
          "base_uri": "https://localhost:8080/"
        },
        "outputId": "c44f6e8d-52bb-4f37-c483-74184d9928ab"
      },
      "source": [
        "res = []\n",
        "for i,pred in enumerate(predictions):\n",
        "  res.append(int_to_letter[pred.argmax()])\n",
        "\n",
        "print(classification_report(test_data['Label'], res))"
      ],
      "execution_count": 17,
      "outputs": [
        {
          "output_type": "stream",
          "text": [
            "              precision    recall  f1-score   support\n",
            "\n",
            "           A       0.69      0.56      0.62       235\n",
            "           B       0.04      0.13      0.06       211\n",
            "           C       0.65      0.63      0.64       237\n",
            "           D       0.13      0.28      0.18       232\n",
            "           E       0.37      0.31      0.34       253\n",
            "           F       0.50      0.35      0.41       228\n",
            "           G       0.31      0.22      0.26       221\n",
            "           H       0.66      0.33      0.44       192\n",
            "           I       0.49      0.48      0.48       213\n",
            "           J       0.87      0.78      0.82       245\n",
            "           K       0.57      0.47      0.51       218\n",
            "           L       0.84      0.81      0.83       260\n",
            "           M       0.61      0.79      0.69       260\n",
            "           N       0.81      0.47      0.59       219\n",
            "           O       0.18      0.17      0.18       233\n",
            "           P       0.81      0.68      0.74       219\n",
            "           Q       0.49      0.43      0.46       225\n",
            "           R       0.44      0.36      0.39       233\n",
            "           S       0.70      0.50      0.58       236\n",
            "           T       0.59      0.52      0.55       242\n",
            "           U       0.59      0.54      0.57       257\n",
            "           V       0.32      0.45      0.38       233\n",
            "           W       0.92      0.77      0.84       228\n",
            "           X       0.29      0.20      0.24       229\n",
            "           Y       0.66      0.67      0.67       229\n",
            "           Z       0.80      0.51      0.62       212\n",
            "\n",
            "    accuracy                           0.48      6000\n",
            "   macro avg       0.55      0.48      0.50      6000\n",
            "weighted avg       0.55      0.48      0.51      6000\n",
            "\n"
          ],
          "name": "stdout"
        }
      ]
    }
  ]
}